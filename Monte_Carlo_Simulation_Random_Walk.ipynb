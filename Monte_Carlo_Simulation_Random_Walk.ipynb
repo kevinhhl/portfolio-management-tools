{
  "nbformat": 4,
  "nbformat_minor": 0,
  "metadata": {
    "colab": {
      "provenance": [],
      "collapsed_sections": [
        "50J9CIeBK7P8",
        "1OszZ2gFLWxy"
      ],
      "include_colab_link": true
    },
    "kernelspec": {
      "name": "python3",
      "display_name": "Python 3"
    },
    "language_info": {
      "name": "python"
    }
  },
  "cells": [
    {
      "cell_type": "markdown",
      "metadata": {
        "id": "view-in-github",
        "colab_type": "text"
      },
      "source": [
        "<a href=\"https://colab.research.google.com/github/kevinhhl/portfolio-management-tools/blob/main/Monte_Carlo_Simulation_Random_Walk.ipynb\" target=\"_parent\"><img src=\"https://colab.research.google.com/assets/colab-badge.svg\" alt=\"Open In Colab\"/></a>"
      ]
    },
    {
      "cell_type": "markdown",
      "source": [
        "**Parameters**\n",
        "\n",
        "(😎 User input)"
      ],
      "metadata": {
        "id": "sMRzBATbNTdg"
      }
    },
    {
      "cell_type": "code",
      "source": [
        "ticker                        = \"PFE\"\n",
        "hist_yyyy, hist_mm, hist_dd   = 2018, 1, 1            # start date, historical lookback\n",
        "t0_yyyy, t0_mm, t0_dd         = 2023, 1, 1            # [t0] end date for historical lookback, and start date for simulations\n",
        "tn_yyyy, tn_mm, tn_dd         = 2023, 3, 31           # [tn] end date for simulations (no. of periods to be determined based on no. of business days in between t0 and tn)\n",
        "n_iters                       = 1000000               # No. of iterations for MCS\n"
      ],
      "metadata": {
        "id": "0vO9_Z8bvJAE"
      },
      "execution_count": 86,
      "outputs": []
    },
    {
      "cell_type": "markdown",
      "source": [
        "# Overview:\n",
        "This script will obtain historical price data from Yahoo and then perform a Monte Carlo Simulation by doing a random walk to forecast the reasonable ranges of prices.\n"
      ],
      "metadata": {
        "id": "Z-XvJ4EtSMYt"
      }
    },
    {
      "cell_type": "code",
      "source": [
        "from datetime import date\n",
        "import time\n",
        "from pandas.tseries.offsets import BDay\n",
        "from scipy.stats import norm\n",
        "import pandas as pd\n",
        "import matplotlib.pyplot as plt\n",
        "import seaborn as sb"
      ],
      "metadata": {
        "id": "Re9QhN_R0axO"
      },
      "execution_count": 87,
      "outputs": []
    },
    {
      "cell_type": "markdown",
      "source": [
        "Number of iterations should be at least 500, and 800, in order for forecasted mean and standard deviation values (respectively) to converge. [1]\n",
        "\n"
      ],
      "metadata": {
        "id": "JTXRqMtPW5xV"
      }
    },
    {
      "cell_type": "code",
      "source": [
        "assert n_iters > 800"
      ],
      "metadata": {
        "id": "KkjNIe3oUiBB"
      },
      "execution_count": 88,
      "outputs": []
    },
    {
      "cell_type": "markdown",
      "source": [
        "# Processing source data:"
      ],
      "metadata": {
        "id": "50J9CIeBK7P8"
      }
    },
    {
      "cell_type": "code",
      "source": [
        "# Alternative to importing yfinance as yf!\n",
        "def get_csv_link(date_from, date_to):\n",
        "  _date_from = time.mktime(date_from.timetuple())\n",
        "  _date_to = time.mktime(date_to.timetuple())\n",
        "  s1 = \"https://query1.finance.yahoo.com/v7/finance/download/\"\n",
        "  _s2 = str(int(_date_from))\n",
        "  _s3 = str(int(_date_to))\n",
        "  s4 = \"?period1=\"+ _s2 +\"&period2=\"+ _s3 +\"&interval=1d&events=history&includeAdjustedClose=true\"\n",
        "  return s1 + ticker + s4\n",
        "csv = pd.read_csv(get_csv_link(date(hist_yyyy, hist_mm, hist_dd), date(t0_yyyy, t0_mm, t0_dd)))\n",
        "csv"
      ],
      "metadata": {
        "id": "kIZpItrGM8ZI",
        "colab": {
          "base_uri": "https://localhost:8080/",
          "height": 0
        },
        "outputId": "f8fdbf63-f6ee-434b-ff10-958c81e4059e"
      },
      "execution_count": 89,
      "outputs": [
        {
          "output_type": "execute_result",
          "data": {
            "text/plain": [
              "            Date       Open       High        Low      Close  Adj Close  \\\n",
              "0     2018-01-02  34.516129  34.648956  34.383301  34.573055  28.559776   \n",
              "1     2018-01-03  34.582542  34.886147  34.373814  34.829224  28.771389   \n",
              "2     2018-01-04  34.829224  35.028461  34.724857  34.905125  28.834087   \n",
              "3     2018-01-05  34.933586  34.990513  34.734344  34.971539  28.888950   \n",
              "4     2018-01-08  34.838711  34.914612  34.468693  34.582542  28.567612   \n",
              "...          ...        ...        ...        ...        ...        ...   \n",
              "1254  2022-12-23  51.560001  51.950001  51.240002  51.830002  51.358505   \n",
              "1255  2022-12-27  51.860001  51.930000  51.049999  51.130001  50.664871   \n",
              "1256  2022-12-28  51.049999  51.389999  50.750000  50.799999  50.337872   \n",
              "1257  2022-12-29  51.020000  51.669998  50.990002  51.330002  50.863052   \n",
              "1258  2022-12-30  51.290001  51.400002  50.750000  51.240002  50.773872   \n",
              "\n",
              "        Volume  \n",
              "0     17059833  \n",
              "1     14183151  \n",
              "2     13046517  \n",
              "3     13167517  \n",
              "4     19964341  \n",
              "...        ...  \n",
              "1254  10666500  \n",
              "1255  12033800  \n",
              "1256  10053900  \n",
              "1257   8971300  \n",
              "1258  11396200  \n",
              "\n",
              "[1259 rows x 7 columns]"
            ],
            "text/html": [
              "\n",
              "  <div id=\"df-523c5a96-d3b3-4343-af7d-4820abcb9add\">\n",
              "    <div class=\"colab-df-container\">\n",
              "      <div>\n",
              "<style scoped>\n",
              "    .dataframe tbody tr th:only-of-type {\n",
              "        vertical-align: middle;\n",
              "    }\n",
              "\n",
              "    .dataframe tbody tr th {\n",
              "        vertical-align: top;\n",
              "    }\n",
              "\n",
              "    .dataframe thead th {\n",
              "        text-align: right;\n",
              "    }\n",
              "</style>\n",
              "<table border=\"1\" class=\"dataframe\">\n",
              "  <thead>\n",
              "    <tr style=\"text-align: right;\">\n",
              "      <th></th>\n",
              "      <th>Date</th>\n",
              "      <th>Open</th>\n",
              "      <th>High</th>\n",
              "      <th>Low</th>\n",
              "      <th>Close</th>\n",
              "      <th>Adj Close</th>\n",
              "      <th>Volume</th>\n",
              "    </tr>\n",
              "  </thead>\n",
              "  <tbody>\n",
              "    <tr>\n",
              "      <th>0</th>\n",
              "      <td>2018-01-02</td>\n",
              "      <td>34.516129</td>\n",
              "      <td>34.648956</td>\n",
              "      <td>34.383301</td>\n",
              "      <td>34.573055</td>\n",
              "      <td>28.559776</td>\n",
              "      <td>17059833</td>\n",
              "    </tr>\n",
              "    <tr>\n",
              "      <th>1</th>\n",
              "      <td>2018-01-03</td>\n",
              "      <td>34.582542</td>\n",
              "      <td>34.886147</td>\n",
              "      <td>34.373814</td>\n",
              "      <td>34.829224</td>\n",
              "      <td>28.771389</td>\n",
              "      <td>14183151</td>\n",
              "    </tr>\n",
              "    <tr>\n",
              "      <th>2</th>\n",
              "      <td>2018-01-04</td>\n",
              "      <td>34.829224</td>\n",
              "      <td>35.028461</td>\n",
              "      <td>34.724857</td>\n",
              "      <td>34.905125</td>\n",
              "      <td>28.834087</td>\n",
              "      <td>13046517</td>\n",
              "    </tr>\n",
              "    <tr>\n",
              "      <th>3</th>\n",
              "      <td>2018-01-05</td>\n",
              "      <td>34.933586</td>\n",
              "      <td>34.990513</td>\n",
              "      <td>34.734344</td>\n",
              "      <td>34.971539</td>\n",
              "      <td>28.888950</td>\n",
              "      <td>13167517</td>\n",
              "    </tr>\n",
              "    <tr>\n",
              "      <th>4</th>\n",
              "      <td>2018-01-08</td>\n",
              "      <td>34.838711</td>\n",
              "      <td>34.914612</td>\n",
              "      <td>34.468693</td>\n",
              "      <td>34.582542</td>\n",
              "      <td>28.567612</td>\n",
              "      <td>19964341</td>\n",
              "    </tr>\n",
              "    <tr>\n",
              "      <th>...</th>\n",
              "      <td>...</td>\n",
              "      <td>...</td>\n",
              "      <td>...</td>\n",
              "      <td>...</td>\n",
              "      <td>...</td>\n",
              "      <td>...</td>\n",
              "      <td>...</td>\n",
              "    </tr>\n",
              "    <tr>\n",
              "      <th>1254</th>\n",
              "      <td>2022-12-23</td>\n",
              "      <td>51.560001</td>\n",
              "      <td>51.950001</td>\n",
              "      <td>51.240002</td>\n",
              "      <td>51.830002</td>\n",
              "      <td>51.358505</td>\n",
              "      <td>10666500</td>\n",
              "    </tr>\n",
              "    <tr>\n",
              "      <th>1255</th>\n",
              "      <td>2022-12-27</td>\n",
              "      <td>51.860001</td>\n",
              "      <td>51.930000</td>\n",
              "      <td>51.049999</td>\n",
              "      <td>51.130001</td>\n",
              "      <td>50.664871</td>\n",
              "      <td>12033800</td>\n",
              "    </tr>\n",
              "    <tr>\n",
              "      <th>1256</th>\n",
              "      <td>2022-12-28</td>\n",
              "      <td>51.049999</td>\n",
              "      <td>51.389999</td>\n",
              "      <td>50.750000</td>\n",
              "      <td>50.799999</td>\n",
              "      <td>50.337872</td>\n",
              "      <td>10053900</td>\n",
              "    </tr>\n",
              "    <tr>\n",
              "      <th>1257</th>\n",
              "      <td>2022-12-29</td>\n",
              "      <td>51.020000</td>\n",
              "      <td>51.669998</td>\n",
              "      <td>50.990002</td>\n",
              "      <td>51.330002</td>\n",
              "      <td>50.863052</td>\n",
              "      <td>8971300</td>\n",
              "    </tr>\n",
              "    <tr>\n",
              "      <th>1258</th>\n",
              "      <td>2022-12-30</td>\n",
              "      <td>51.290001</td>\n",
              "      <td>51.400002</td>\n",
              "      <td>50.750000</td>\n",
              "      <td>51.240002</td>\n",
              "      <td>50.773872</td>\n",
              "      <td>11396200</td>\n",
              "    </tr>\n",
              "  </tbody>\n",
              "</table>\n",
              "<p>1259 rows × 7 columns</p>\n",
              "</div>\n",
              "      <button class=\"colab-df-convert\" onclick=\"convertToInteractive('df-523c5a96-d3b3-4343-af7d-4820abcb9add')\"\n",
              "              title=\"Convert this dataframe to an interactive table.\"\n",
              "              style=\"display:none;\">\n",
              "        \n",
              "  <svg xmlns=\"http://www.w3.org/2000/svg\" height=\"24px\"viewBox=\"0 0 24 24\"\n",
              "       width=\"24px\">\n",
              "    <path d=\"M0 0h24v24H0V0z\" fill=\"none\"/>\n",
              "    <path d=\"M18.56 5.44l.94 2.06.94-2.06 2.06-.94-2.06-.94-.94-2.06-.94 2.06-2.06.94zm-11 1L8.5 8.5l.94-2.06 2.06-.94-2.06-.94L8.5 2.5l-.94 2.06-2.06.94zm10 10l.94 2.06.94-2.06 2.06-.94-2.06-.94-.94-2.06-.94 2.06-2.06.94z\"/><path d=\"M17.41 7.96l-1.37-1.37c-.4-.4-.92-.59-1.43-.59-.52 0-1.04.2-1.43.59L10.3 9.45l-7.72 7.72c-.78.78-.78 2.05 0 2.83L4 21.41c.39.39.9.59 1.41.59.51 0 1.02-.2 1.41-.59l7.78-7.78 2.81-2.81c.8-.78.8-2.07 0-2.86zM5.41 20L4 18.59l7.72-7.72 1.47 1.35L5.41 20z\"/>\n",
              "  </svg>\n",
              "      </button>\n",
              "      \n",
              "  <style>\n",
              "    .colab-df-container {\n",
              "      display:flex;\n",
              "      flex-wrap:wrap;\n",
              "      gap: 12px;\n",
              "    }\n",
              "\n",
              "    .colab-df-convert {\n",
              "      background-color: #E8F0FE;\n",
              "      border: none;\n",
              "      border-radius: 50%;\n",
              "      cursor: pointer;\n",
              "      display: none;\n",
              "      fill: #1967D2;\n",
              "      height: 32px;\n",
              "      padding: 0 0 0 0;\n",
              "      width: 32px;\n",
              "    }\n",
              "\n",
              "    .colab-df-convert:hover {\n",
              "      background-color: #E2EBFA;\n",
              "      box-shadow: 0px 1px 2px rgba(60, 64, 67, 0.3), 0px 1px 3px 1px rgba(60, 64, 67, 0.15);\n",
              "      fill: #174EA6;\n",
              "    }\n",
              "\n",
              "    [theme=dark] .colab-df-convert {\n",
              "      background-color: #3B4455;\n",
              "      fill: #D2E3FC;\n",
              "    }\n",
              "\n",
              "    [theme=dark] .colab-df-convert:hover {\n",
              "      background-color: #434B5C;\n",
              "      box-shadow: 0px 1px 3px 1px rgba(0, 0, 0, 0.15);\n",
              "      filter: drop-shadow(0px 1px 2px rgba(0, 0, 0, 0.3));\n",
              "      fill: #FFFFFF;\n",
              "    }\n",
              "  </style>\n",
              "\n",
              "      <script>\n",
              "        const buttonEl =\n",
              "          document.querySelector('#df-523c5a96-d3b3-4343-af7d-4820abcb9add button.colab-df-convert');\n",
              "        buttonEl.style.display =\n",
              "          google.colab.kernel.accessAllowed ? 'block' : 'none';\n",
              "\n",
              "        async function convertToInteractive(key) {\n",
              "          const element = document.querySelector('#df-523c5a96-d3b3-4343-af7d-4820abcb9add');\n",
              "          const dataTable =\n",
              "            await google.colab.kernel.invokeFunction('convertToInteractive',\n",
              "                                                     [key], {});\n",
              "          if (!dataTable) return;\n",
              "\n",
              "          const docLinkHtml = 'Like what you see? Visit the ' +\n",
              "            '<a target=\"_blank\" href=https://colab.research.google.com/notebooks/data_table.ipynb>data table notebook</a>'\n",
              "            + ' to learn more about interactive tables.';\n",
              "          element.innerHTML = '';\n",
              "          dataTable['output_type'] = 'display_data';\n",
              "          await google.colab.output.renderOutput(dataTable, element);\n",
              "          const docLink = document.createElement('div');\n",
              "          docLink.innerHTML = docLinkHtml;\n",
              "          element.appendChild(docLink);\n",
              "        }\n",
              "      </script>\n",
              "    </div>\n",
              "  </div>\n",
              "  "
            ]
          },
          "metadata": {},
          "execution_count": 89
        }
      ]
    },
    {
      "cell_type": "markdown",
      "source": [
        "**Historical Returns**\n",
        "\n",
        "*   pc = historical log returns, based on Adjusted Close\n",
        "*   drift = mean minus half-variance of historical log returns\n",
        "\n"
      ],
      "metadata": {
        "id": "snkHlG2mLDAE"
      }
    },
    {
      "cell_type": "code",
      "source": [
        "import numpy as np\n",
        "\n",
        "adj_close = csv[\"Adj Close\"]\n",
        "pc = np.log(1+adj_close.pct_change()) "
      ],
      "metadata": {
        "id": "dVWLT7zCv1Zj"
      },
      "execution_count": 90,
      "outputs": []
    },
    {
      "cell_type": "code",
      "source": [
        "sb.histplot(pc.iloc[1:])\n",
        "plt.title(\"Historical Log Returns\")\n",
        "plt.xlabel(\"Log Returns (Daily)\")\n",
        "plt.ylabel(\"Frequency\");"
      ],
      "metadata": {
        "colab": {
          "base_uri": "https://localhost:8080/",
          "height": 0
        },
        "id": "Kh21PW0S1VqF",
        "outputId": "0611905b-32cb-4274-9bc4-e24152d79403"
      },
      "execution_count": 91,
      "outputs": [
        {
          "output_type": "display_data",
          "data": {
            "text/plain": [
              "<Figure size 432x288 with 1 Axes>"
            ],
            "image/png": "[encoded data removed]"
          },
          "metadata": {
            "needs_background": "light"
          }
        }
      ]
    },
    {
      "cell_type": "code",
      "source": [
        "mean = pc.mean()\n",
        "var = pc.var()\n",
        "stddev = pc.std()\n",
        "drift = mean - 0.5*var\n",
        "print(\"mean={}, var={}, drift={}\".format(mean, var, drift))\n"
      ],
      "metadata": {
        "colab": {
          "base_uri": "https://localhost:8080/"
        },
        "id": "opaF_hukxYAk",
        "outputId": "84a96c52-5e6d-4228-ccbe-371f0ea2916f"
      },
      "execution_count": 92,
      "outputs": [
        {
          "output_type": "stream",
          "name": "stdout",
          "text": [
            "mean=0.00045737885314705245, var=0.0002720509809373811, drift=0.00032135336267836187\n"
          ]
        }
      ]
    },
    {
      "cell_type": "markdown",
      "source": [
        "# Performing Random Walk"
      ],
      "metadata": {
        "id": "1OszZ2gFLWxy"
      }
    },
    {
      "cell_type": "code",
      "source": [
        "date_t0 = date(t0_yyyy, t0_mm, t0_dd)\n",
        "date_tn = date(tn_yyyy, tn_mm, tn_dd)\n",
        "\n",
        "n_forecast = 0        # Counter++ for each business days existing in between t0 and tn\n",
        "_t0 = date_t0         # tmp var.\n",
        "while date(_t0.year,_t0.month,_t0.day) <= date(date_tn.year,date_tn.month,date_tn.day):\n",
        "  n_forecast += 1\n",
        "  _t0 += BDay(1)"
      ],
      "metadata": {
        "id": "NYD2lruj7Xle"
      },
      "execution_count": 93,
      "outputs": []
    },
    {
      "cell_type": "code",
      "source": [
        "# Init. array[n_forecast][n_iters] of zeros \n",
        "rand_returns = np.exp(drift + stddev * norm.ppf(np.random.rand(n_forecast,n_iters)))\n",
        "sim_equity_curve = np.zeros_like(rand_returns)\n",
        "\n",
        "# Assume single asset porfolio. Value of portfolio on day 1 of forecast is the Adj. Close price on that date. \n",
        "sim_equity_curve[0] = adj_close[len(adj_close)-1]\n",
        "\n",
        "# Perform random walk and plot\n",
        "for t in range(1,n_forecast):\n",
        "    sim_equity_curve[t] = sim_equity_curve[t-1]*rand_returns[t]\n",
        "\n",
        "assert(sim_equity_curve.shape==rand_returns.shape)\n",
        "\n",
        "print(\"\\n{}\\nShape={}\".format(ticker, sim_equity_curve.shape))\n",
        "print(\"Simulation: From {} to {}; Business days={}\".format(date_t0, date_tn, np.busday_count(date_t0, date_tn)))\n",
        "\n",
        "## No longer using matplotlib to show MCS\n",
        "## Plotting with matplotlib becomes too slow when n_iteration count is large\n",
        "# plt.figure(figsize=(20,10))\n",
        "# plt.plot(pd.DataFrame(sim_equity_curve).iloc[:,0:]);"
      ],
      "metadata": {
        "colab": {
          "base_uri": "https://localhost:8080/"
        },
        "id": "SGGj1CEFzC56",
        "outputId": "5f9f7be7-f535-4a44-c8bb-e64d1cb28de1"
      },
      "execution_count": 94,
      "outputs": [
        {
          "output_type": "stream",
          "name": "stdout",
          "text": [
            "\n",
            "PFE\n",
            "Shape=(66, 1000000)\n",
            "Simulation: From 2023-01-01 to 2023-03-31; Business days=64\n"
          ]
        }
      ]
    },
    {
      "cell_type": "code",
      "source": [
        "count = 0\n",
        "stdev_multi = 2\n",
        "\n",
        "lower_bounds, center_ln, upper_bounds = [], [], []\n",
        "\n",
        "print(\"{}\\nt+n; \\t\\t\\t\\tstd \\t\\tmean \\t\\tmean - {}*std \\t\\tmean + {}*std \\n\"\\\n",
        "      .format(ticker, stdev_multi,stdev_multi))\n",
        "for e in sim_equity_curve:\n",
        "  std = e.std()\n",
        "  mean = e.mean()\n",
        "  lower_bounds.append(mean-2*std)\n",
        "  center_ln.append(mean)\n",
        "  upper_bounds.append(mean+2*std)\n",
        "  print(\"t+{} \\t{} \\tstd = {} \\tmean = {} \\tlower = {} \\t\\tupper = {}\"\\\n",
        "        .format(count, date_t0+BDay(count), std.round(2), mean.round(2), (mean-stdev_multi*std).round(2), (mean+stdev_multi*std).round(2)))\n",
        "  count += 1\n"
      ],
      "metadata": {
        "colab": {
          "base_uri": "https://localhost:8080/"
        },
        "id": "tkvONumF_RF-",
        "outputId": "3ecbced2-b95f-4823-ebe6-ad16d7d99613"
      },
      "execution_count": 95,
      "outputs": [
        {
          "output_type": "stream",
          "name": "stdout",
          "text": [
            "PFE\n",
            "t+n; \t\t\t\tstd \t\tmean \t\tmean - 2*std \t\tmean + 2*std \n",
            "\n",
            "t+0 \t2023-01-02 00:00:00 \tstd = 0.0 \tmean = 50.77 \tlower = 50.77 \t\tupper = 50.77\n",
            "t+1 \t2023-01-02 00:00:00 \tstd = 0.84 \tmean = 50.8 \tlower = 49.12 \t\tupper = 52.47\n",
            "t+2 \t2023-01-03 00:00:00 \tstd = 1.19 \tmean = 50.82 \tlower = 48.45 \t\tupper = 53.19\n",
            "t+3 \t2023-01-04 00:00:00 \tstd = 1.45 \tmean = 50.84 \tlower = 47.94 \t\tupper = 53.75\n",
            "t+4 \t2023-01-05 00:00:00 \tstd = 1.68 \tmean = 50.87 \tlower = 47.51 \t\tupper = 54.22\n",
            "t+5 \t2023-01-06 00:00:00 \tstd = 1.88 \tmean = 50.89 \tlower = 47.14 \t\tupper = 54.65\n",
            "t+6 \t2023-01-09 00:00:00 \tstd = 2.06 \tmean = 50.91 \tlower = 46.8 \t\tupper = 55.03\n",
            "t+7 \t2023-01-10 00:00:00 \tstd = 2.22 \tmean = 50.94 \tlower = 46.49 \t\tupper = 55.38\n",
            "t+8 \t2023-01-11 00:00:00 \tstd = 2.38 \tmean = 50.96 \tlower = 46.21 \t\tupper = 55.72\n",
            "t+9 \t2023-01-12 00:00:00 \tstd = 2.52 \tmean = 50.98 \tlower = 45.94 \t\tupper = 56.03\n",
            "t+10 \t2023-01-13 00:00:00 \tstd = 2.66 \tmean = 51.01 \tlower = 45.69 \t\tupper = 56.33\n",
            "t+11 \t2023-01-16 00:00:00 \tstd = 2.79 \tmean = 51.03 \tlower = 45.44 \t\tupper = 56.62\n",
            "t+12 \t2023-01-17 00:00:00 \tstd = 2.92 \tmean = 51.05 \tlower = 45.22 \t\tupper = 56.89\n",
            "t+13 \t2023-01-18 00:00:00 \tstd = 3.04 \tmean = 51.08 \tlower = 45.0 \t\tupper = 57.16\n",
            "t+14 \t2023-01-19 00:00:00 \tstd = 3.16 \tmean = 51.1 \tlower = 44.79 \t\tupper = 57.41\n",
            "t+15 \t2023-01-20 00:00:00 \tstd = 3.27 \tmean = 51.13 \tlower = 44.59 \t\tupper = 57.66\n",
            "t+16 \t2023-01-23 00:00:00 \tstd = 3.38 \tmean = 51.15 \tlower = 44.4 \t\tupper = 57.9\n",
            "t+17 \t2023-01-24 00:00:00 \tstd = 3.48 \tmean = 51.17 \tlower = 44.21 \t\tupper = 58.14\n",
            "t+18 \t2023-01-25 00:00:00 \tstd = 3.59 \tmean = 51.2 \tlower = 44.02 \t\tupper = 58.37\n",
            "t+19 \t2023-01-26 00:00:00 \tstd = 3.69 \tmean = 51.22 \tlower = 43.85 \t\tupper = 58.59\n",
            "t+20 \t2023-01-27 00:00:00 \tstd = 3.78 \tmean = 51.24 \tlower = 43.67 \t\tupper = 58.81\n",
            "t+21 \t2023-01-30 00:00:00 \tstd = 3.88 \tmean = 51.27 \tlower = 43.5 \t\tupper = 59.03\n",
            "t+22 \t2023-01-31 00:00:00 \tstd = 3.98 \tmean = 51.29 \tlower = 43.34 \t\tupper = 59.24\n",
            "t+23 \t2023-02-01 00:00:00 \tstd = 4.07 \tmean = 51.31 \tlower = 43.18 \t\tupper = 59.45\n",
            "t+24 \t2023-02-02 00:00:00 \tstd = 4.16 \tmean = 51.33 \tlower = 43.02 \t\tupper = 59.65\n",
            "t+25 \t2023-02-03 00:00:00 \tstd = 4.25 \tmean = 51.36 \tlower = 42.87 \t\tupper = 59.85\n",
            "t+26 \t2023-02-06 00:00:00 \tstd = 4.33 \tmean = 51.38 \tlower = 42.72 \t\tupper = 60.05\n",
            "t+27 \t2023-02-07 00:00:00 \tstd = 4.42 \tmean = 51.41 \tlower = 42.57 \t\tupper = 60.24\n",
            "t+28 \t2023-02-08 00:00:00 \tstd = 4.5 \tmean = 51.43 \tlower = 42.43 \t\tupper = 60.43\n",
            "t+29 \t2023-02-09 00:00:00 \tstd = 4.58 \tmean = 51.45 \tlower = 42.29 \t\tupper = 60.62\n",
            "t+30 \t2023-02-10 00:00:00 \tstd = 4.66 \tmean = 51.48 \tlower = 42.15 \t\tupper = 60.8\n",
            "t+31 \t2023-02-13 00:00:00 \tstd = 4.74 \tmean = 51.5 \tlower = 42.02 \t\tupper = 60.98\n",
            "t+32 \t2023-02-14 00:00:00 \tstd = 4.82 \tmean = 51.52 \tlower = 41.89 \t\tupper = 61.16\n",
            "t+33 \t2023-02-15 00:00:00 \tstd = 4.89 \tmean = 51.55 \tlower = 41.76 \t\tupper = 61.34\n",
            "t+34 \t2023-02-16 00:00:00 \tstd = 4.97 \tmean = 51.57 \tlower = 41.63 \t\tupper = 61.51\n",
            "t+35 \t2023-02-17 00:00:00 \tstd = 5.05 \tmean = 51.59 \tlower = 41.5 \t\tupper = 61.68\n",
            "t+36 \t2023-02-20 00:00:00 \tstd = 5.12 \tmean = 51.62 \tlower = 41.38 \t\tupper = 61.85\n",
            "t+37 \t2023-02-21 00:00:00 \tstd = 5.19 \tmean = 51.64 \tlower = 41.25 \t\tupper = 62.02\n",
            "t+38 \t2023-02-22 00:00:00 \tstd = 5.27 \tmean = 51.66 \tlower = 41.13 \t\tupper = 62.19\n",
            "t+39 \t2023-02-23 00:00:00 \tstd = 5.34 \tmean = 51.69 \tlower = 41.01 \t\tupper = 62.36\n",
            "t+40 \t2023-02-24 00:00:00 \tstd = 5.41 \tmean = 51.71 \tlower = 40.89 \t\tupper = 62.52\n",
            "t+41 \t2023-02-27 00:00:00 \tstd = 5.48 \tmean = 51.73 \tlower = 40.77 \t\tupper = 62.69\n",
            "t+42 \t2023-02-28 00:00:00 \tstd = 5.55 \tmean = 51.75 \tlower = 40.65 \t\tupper = 62.85\n",
            "t+43 \t2023-03-01 00:00:00 \tstd = 5.62 \tmean = 51.78 \tlower = 40.54 \t\tupper = 63.02\n",
            "t+44 \t2023-03-02 00:00:00 \tstd = 5.69 \tmean = 51.8 \tlower = 40.43 \t\tupper = 63.18\n",
            "t+45 \t2023-03-03 00:00:00 \tstd = 5.75 \tmean = 51.83 \tlower = 40.32 \t\tupper = 63.33\n",
            "t+46 \t2023-03-06 00:00:00 \tstd = 5.82 \tmean = 51.85 \tlower = 40.21 \t\tupper = 63.49\n",
            "t+47 \t2023-03-07 00:00:00 \tstd = 5.89 \tmean = 51.87 \tlower = 40.1 \t\tupper = 63.64\n",
            "t+48 \t2023-03-08 00:00:00 \tstd = 5.95 \tmean = 51.9 \tlower = 40.0 \t\tupper = 63.8\n",
            "t+49 \t2023-03-09 00:00:00 \tstd = 6.01 \tmean = 51.92 \tlower = 39.89 \t\tupper = 63.95\n",
            "t+50 \t2023-03-10 00:00:00 \tstd = 6.08 \tmean = 51.95 \tlower = 39.78 \t\tupper = 64.11\n",
            "t+51 \t2023-03-13 00:00:00 \tstd = 6.14 \tmean = 51.97 \tlower = 39.68 \t\tupper = 64.26\n",
            "t+52 \t2023-03-14 00:00:00 \tstd = 6.21 \tmean = 51.99 \tlower = 39.58 \t\tupper = 64.41\n",
            "t+53 \t2023-03-15 00:00:00 \tstd = 6.27 \tmean = 52.02 \tlower = 39.48 \t\tupper = 64.56\n",
            "t+54 \t2023-03-16 00:00:00 \tstd = 6.33 \tmean = 52.04 \tlower = 39.38 \t\tupper = 64.7\n",
            "t+55 \t2023-03-17 00:00:00 \tstd = 6.39 \tmean = 52.07 \tlower = 39.28 \t\tupper = 64.85\n",
            "t+56 \t2023-03-20 00:00:00 \tstd = 6.45 \tmean = 52.09 \tlower = 39.18 \t\tupper = 65.0\n",
            "t+57 \t2023-03-21 00:00:00 \tstd = 6.51 \tmean = 52.11 \tlower = 39.08 \t\tupper = 65.14\n",
            "t+58 \t2023-03-22 00:00:00 \tstd = 6.57 \tmean = 52.13 \tlower = 38.99 \t\tupper = 65.28\n",
            "t+59 \t2023-03-23 00:00:00 \tstd = 6.63 \tmean = 52.16 \tlower = 38.89 \t\tupper = 65.43\n",
            "t+60 \t2023-03-24 00:00:00 \tstd = 6.69 \tmean = 52.18 \tlower = 38.8 \t\tupper = 65.57\n",
            "t+61 \t2023-03-27 00:00:00 \tstd = 6.75 \tmean = 52.21 \tlower = 38.7 \t\tupper = 65.71\n",
            "t+62 \t2023-03-28 00:00:00 \tstd = 6.81 \tmean = 52.23 \tlower = 38.61 \t\tupper = 65.85\n",
            "t+63 \t2023-03-29 00:00:00 \tstd = 6.87 \tmean = 52.26 \tlower = 38.52 \t\tupper = 65.99\n",
            "t+64 \t2023-03-30 00:00:00 \tstd = 6.93 \tmean = 52.28 \tlower = 38.42 \t\tupper = 66.13\n",
            "t+65 \t2023-03-31 00:00:00 \tstd = 6.98 \tmean = 52.3 \tlower = 38.33 \t\tupper = 66.27\n"
          ]
        }
      ]
    },
    {
      "cell_type": "markdown",
      "source": [
        "#Output"
      ],
      "metadata": {
        "id": "jnjxc7OuMTxe"
      }
    },
    {
      "cell_type": "code",
      "source": [
        "print(\"Simulation:\\tFrom {} to {}; Business days={}\".format(date_t0, date_tn, np.busday_count(date_t0, date_tn)))\n",
        "print(\"\\nOn t+{}:\\tExpected price interval = [{}, {}]\".format(np.busday_count(date_t0, date_tn), round(lower_bounds[len(lower_bounds)-1],2),round(upper_bounds[len(upper_bounds)-1],2)))\n",
        "print(\"\\nOn t+{}:\\tExpected average price = {}\".format(np.busday_count(date_t0, date_tn), round(center_ln[len(center_ln)-1],2)))"
      ],
      "metadata": {
        "colab": {
          "base_uri": "https://localhost:8080/"
        },
        "id": "hKQ-AtCqNs5D",
        "outputId": "18d1b63c-482c-45cb-fa6f-cd64df2edfc3"
      },
      "execution_count": 96,
      "outputs": [
        {
          "output_type": "stream",
          "name": "stdout",
          "text": [
            "Simulation:\tFrom 2023-01-01 to 2023-03-31; Business days=64\n",
            "\n",
            "On t+64:\tExpected price interval = [38.33, 66.27]\n",
            "\n",
            "On t+64:\tExpected average price = 52.3\n"
          ]
        }
      ]
    },
    {
      "cell_type": "code",
      "source": [
        "plt.figure(figsize=(16,8))\n",
        "plt.plot(center_ln, label=\"Project Mean\", color=\"blue\")\n",
        "plt.plot(lower_bounds, label=\"Project Mean - 2 * stdev.\", color=\"green\")\n",
        "plt.plot(upper_bounds, label=\"Project Mean + 2 * stdev.\", color=\"red\")\n",
        "plt.legend()\n",
        "plt.ylabel(\"Projected price\")\n",
        "plt.xlabel(\"t0 + No. of business days\")\n",
        "plt.show()"
      ],
      "metadata": {
        "colab": {
          "base_uri": "https://localhost:8080/",
          "height": 497
        },
        "id": "hgVDqfMwIt1I",
        "outputId": "6a242af8-9ba6-453f-c62e-6c59e7bf881c"
      },
      "execution_count": 97,
      "outputs": [
        {
          "output_type": "display_data",
          "data": {
            "text/plain": [
              "<Figure size 1152x576 with 1 Axes>"
            ],
            "image/png": "[encoded data removed]"
          },
          "metadata": {
            "needs_background": "light"
          }
        }
      ]
    },
    {
      "cell_type": "markdown",
      "source": [
        "<br>\n",
        "<br>\n",
        "<br>\n",
        "<br>\n",
        "\n",
        "---\n",
        "**References:**\n",
        "\n",
        "[1] E. Bukaçi, Th. Korini, E. Periku, S. Allkja and P. Sheperi (2016). Number of iterations needed in Monte Carlo Simulation using reliability analysis for tunnel supports. [online] https://www.ijera.com. Available at: https://www.ijera.com/papers/Vol6_issue6/Part%20-%203/J0606036064.pdf."
      ],
      "metadata": {
        "id": "lpZrKjiDUl9O"
      }
    }
  ]
}
{
 "cells": [
  {
   "cell_type": "markdown",
   "metadata": {},
   "source": [
    "# Historical Volatility Quantifier"
   ]
  },
  {
   "cell_type": "code",
   "execution_count": 17,
   "metadata": {},
   "outputs": [],
   "source": [
    "import yfinance as yf \n",
    "import datetime \n",
    "import numpy as np "
   ]
  },
  {
   "cell_type": "code",
   "execution_count": 14,
   "metadata": {},
   "outputs": [],
   "source": [
    "def get_results(ticker, n_lookback): \n",
    "\n",
    "    ticker = yf.Ticker(ticker)\n",
    "    \n",
    "    start_date = datetime.datetime.today() - datetime.timedelta(days=n_lookback*1.5) # TODO: Ensure window size is enough. \n",
    "    start_date = start_date.strftime(\"%Y-%m-%d\")\n",
    "    end_date = datetime.datetime.today() - datetime.timedelta(days=1)\n",
    "    end_date = end_date.strftime(\"%Y-%m-%d\")\n",
    "\n",
    "    daily_close = ticker.history(start=start_date, end=end_date, interval=\"1d\") \n",
    "    daily_close = daily_close[\"Close\"]\n",
    "    \n",
    "    returns = np.log(daily_close / daily_close.shift(1))\n",
    "    \n",
    "    stdev_252 = returns.rolling(n_lookback, min_periods=n_lookback).std()\n",
    "    stdev_252_annualized = stdev_252.mean() * np.sqrt(252) \n",
    "\n",
    "    return daily_close, returns, stdev_252, stdev_252_annualized"
   ]
  },
  {
   "cell_type": "code",
   "execution_count": 22,
   "metadata": {},
   "outputs": [
    {
     "name": "stdout",
     "output_type": "stream",
     "text": [
      "AAPL 0.2218\n",
      "MSFT 0.2616\n",
      "AMZN 0.3416\n",
      "GOOG 0.3127\n",
      "META 0.4011\n",
      "GBPUSD=X 0.0842\n",
      "EURUSD=X 0.0747\n",
      "BTC-USD 0.3543\n",
      "ETH-USD 0.3744\n"
     ]
    }
   ],
   "source": [
    "tickers = [\"AAPL\", \"MSFT\", \"AMZN\", \"GOOG\", \"META\", \"GBPUSD=X\", \"EURUSD=X\", \"BTC-USD\", \"ETH-USD\"] \n",
    "\n",
    "for e in tickers:\n",
    "    daily_close, returns, stdev_252, stdev_252_annualized = get_results(e, 252)\n",
    "    print(e, stdev_252_annualized.round(4))\n"
   ]
  },
  {
   "cell_type": "code",
   "execution_count": null,
   "metadata": {},
   "outputs": [],
   "source": []
  }
 ],
 "metadata": {
  "kernelspec": {
   "display_name": "base",
   "language": "python",
   "name": "python3"
  },
  "language_info": {
   "codemirror_mode": {
    "name": "ipython",
    "version": 3
   },
   "file_extension": ".py",
   "mimetype": "text/x-python",
   "name": "python",
   "nbconvert_exporter": "python",
   "pygments_lexer": "ipython3",
   "version": "3.10.9"
  }
 },
 "nbformat": 4,
 "nbformat_minor": 2
}

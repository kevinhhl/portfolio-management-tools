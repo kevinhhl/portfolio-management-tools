{
  "cells": [
    {
      "cell_type": "markdown",
      "metadata": {
        "id": "Z-XvJ4EtSMYt"
      },
      "source": [
        "# Overview:\n",
        "This script will obtain historical price data from Yahoo and then perform a Monte Carlo Simulation by doing a random walk to forecast the reasonable ranges of prices.\n"
      ]
    },
    {
      "cell_type": "markdown",
      "metadata": {
        "id": "sMRzBATbNTdg"
      },
      "source": [
        "**Parameters**"
      ]
    },
    {
      "cell_type": "code",
      "execution_count": 13,
      "metadata": {
        "id": "0vO9_Z8bvJAE"
      },
      "outputs": [],
      "source": [
        "ticker                        = \"GBPUSD=X\"            # ticker symbol\n",
        "hist_yyyy, hist_mm, hist_dd   = 2018, 11, 28          # start date, historical lookback\n",
        "t0_yyyy, t0_mm, t0_dd         = 2023, 11, 28          # [t0] end date for historical lookback, and start date for simulations\n",
        "tn_yyyy, tn_mm, tn_dd         = 2024, 9, 30           # [tn] end date for simulations (no. of periods to be determined based on no. of business days in between t0 and tn)\n",
        "n_iters                       = 1000000               # No. of iterations for MCS\n"
      ]
    },
    {
      "cell_type": "code",
      "execution_count": 14,
      "metadata": {
        "id": "Re9QhN_R0axO"
      },
      "outputs": [],
      "source": [
        "from datetime import date\n",
        "import time\n",
        "from pandas.tseries.offsets import BDay\n",
        "from scipy.stats import norm\n",
        "import pandas as pd\n",
        "import matplotlib.pyplot as plt\n",
        "import seaborn as sb"
      ]
    },
    {
      "cell_type": "code",
      "execution_count": 15,
      "metadata": {
        "id": "KkjNIe3oUiBB"
      },
      "outputs": [],
      "source": [
        "assert n_iters > 800 # the minimum no. of iterations required for the 95% confidence interval to be within 0.1% of the mean [1]"
      ]
    },
    {
      "cell_type": "markdown",
      "metadata": {
        "id": "50J9CIeBK7P8"
      },
      "source": [
        "# Processing source data:"
      ]
    },
    {
      "cell_type": "code",
      "execution_count": 16,
      "metadata": {
        "colab": {
          "base_uri": "https://localhost:8080/",
          "height": 424
        },
        "id": "kIZpItrGM8ZI",
        "outputId": "260ea236-f49c-46a0-addc-154e2c4b75bc"
      },
      "outputs": [
        {
          "data": {
            "text/html": [
              "<div>\n",
              "<style scoped>\n",
              "    .dataframe tbody tr th:only-of-type {\n",
              "        vertical-align: middle;\n",
              "    }\n",
              "\n",
              "    .dataframe tbody tr th {\n",
              "        vertical-align: top;\n",
              "    }\n",
              "\n",
              "    .dataframe thead th {\n",
              "        text-align: right;\n",
              "    }\n",
              "</style>\n",
              "<table border=\"1\" class=\"dataframe\">\n",
              "  <thead>\n",
              "    <tr style=\"text-align: right;\">\n",
              "      <th></th>\n",
              "      <th>Date</th>\n",
              "      <th>Open</th>\n",
              "      <th>High</th>\n",
              "      <th>Low</th>\n",
              "      <th>Close</th>\n",
              "      <th>Adj Close</th>\n",
              "      <th>Volume</th>\n",
              "    </tr>\n",
              "  </thead>\n",
              "  <tbody>\n",
              "    <tr>\n",
              "      <th>0</th>\n",
              "      <td>2018-11-27</td>\n",
              "      <td>1.281230</td>\n",
              "      <td>1.282051</td>\n",
              "      <td>1.272734</td>\n",
              "      <td>1.281230</td>\n",
              "      <td>1.281230</td>\n",
              "      <td>0.0</td>\n",
              "    </tr>\n",
              "    <tr>\n",
              "      <th>1</th>\n",
              "      <td>2018-11-28</td>\n",
              "      <td>1.274210</td>\n",
              "      <td>1.280607</td>\n",
              "      <td>1.273383</td>\n",
              "      <td>1.274372</td>\n",
              "      <td>1.274372</td>\n",
              "      <td>0.0</td>\n",
              "    </tr>\n",
              "    <tr>\n",
              "      <th>2</th>\n",
              "      <td>2018-11-29</td>\n",
              "      <td>1.282298</td>\n",
              "      <td>1.285182</td>\n",
              "      <td>1.275673</td>\n",
              "      <td>1.282413</td>\n",
              "      <td>1.282413</td>\n",
              "      <td>0.0</td>\n",
              "    </tr>\n",
              "    <tr>\n",
              "      <th>3</th>\n",
              "      <td>2018-11-30</td>\n",
              "      <td>1.278413</td>\n",
              "      <td>1.280688</td>\n",
              "      <td>1.273691</td>\n",
              "      <td>1.278445</td>\n",
              "      <td>1.278445</td>\n",
              "      <td>0.0</td>\n",
              "    </tr>\n",
              "    <tr>\n",
              "      <th>4</th>\n",
              "      <td>2018-12-03</td>\n",
              "      <td>1.275022</td>\n",
              "      <td>1.282429</td>\n",
              "      <td>1.270002</td>\n",
              "      <td>1.275348</td>\n",
              "      <td>1.275348</td>\n",
              "      <td>0.0</td>\n",
              "    </tr>\n",
              "    <tr>\n",
              "      <th>...</th>\n",
              "      <td>...</td>\n",
              "      <td>...</td>\n",
              "      <td>...</td>\n",
              "      <td>...</td>\n",
              "      <td>...</td>\n",
              "      <td>...</td>\n",
              "      <td>...</td>\n",
              "    </tr>\n",
              "    <tr>\n",
              "      <th>1300</th>\n",
              "      <td>2023-11-21</td>\n",
              "      <td>1.250907</td>\n",
              "      <td>1.255840</td>\n",
              "      <td>1.250578</td>\n",
              "      <td>1.250907</td>\n",
              "      <td>1.250907</td>\n",
              "      <td>0.0</td>\n",
              "    </tr>\n",
              "    <tr>\n",
              "      <th>1301</th>\n",
              "      <td>2023-11-22</td>\n",
              "      <td>1.254548</td>\n",
              "      <td>1.254878</td>\n",
              "      <td>1.244927</td>\n",
              "      <td>1.254422</td>\n",
              "      <td>1.254422</td>\n",
              "      <td>0.0</td>\n",
              "    </tr>\n",
              "    <tr>\n",
              "      <th>1302</th>\n",
              "      <td>2023-11-23</td>\n",
              "      <td>1.249110</td>\n",
              "      <td>1.256281</td>\n",
              "      <td>1.248985</td>\n",
              "      <td>1.249001</td>\n",
              "      <td>1.249001</td>\n",
              "      <td>0.0</td>\n",
              "    </tr>\n",
              "    <tr>\n",
              "      <th>1303</th>\n",
              "      <td>2023-11-24</td>\n",
              "      <td>1.253290</td>\n",
              "      <td>1.261670</td>\n",
              "      <td>1.252536</td>\n",
              "      <td>1.253353</td>\n",
              "      <td>1.253353</td>\n",
              "      <td>0.0</td>\n",
              "    </tr>\n",
              "    <tr>\n",
              "      <th>1304</th>\n",
              "      <td>2023-11-27</td>\n",
              "      <td>1.260097</td>\n",
              "      <td>1.264414</td>\n",
              "      <td>1.259208</td>\n",
              "      <td>1.260033</td>\n",
              "      <td>1.260033</td>\n",
              "      <td>0.0</td>\n",
              "    </tr>\n",
              "  </tbody>\n",
              "</table>\n",
              "<p>1305 rows × 7 columns</p>\n",
              "</div>"
            ],
            "text/plain": [
              "            Date      Open      High       Low     Close  Adj Close  Volume\n",
              "0     2018-11-27  1.281230  1.282051  1.272734  1.281230   1.281230     0.0\n",
              "1     2018-11-28  1.274210  1.280607  1.273383  1.274372   1.274372     0.0\n",
              "2     2018-11-29  1.282298  1.285182  1.275673  1.282413   1.282413     0.0\n",
              "3     2018-11-30  1.278413  1.280688  1.273691  1.278445   1.278445     0.0\n",
              "4     2018-12-03  1.275022  1.282429  1.270002  1.275348   1.275348     0.0\n",
              "...          ...       ...       ...       ...       ...        ...     ...\n",
              "1300  2023-11-21  1.250907  1.255840  1.250578  1.250907   1.250907     0.0\n",
              "1301  2023-11-22  1.254548  1.254878  1.244927  1.254422   1.254422     0.0\n",
              "1302  2023-11-23  1.249110  1.256281  1.248985  1.249001   1.249001     0.0\n",
              "1303  2023-11-24  1.253290  1.261670  1.252536  1.253353   1.253353     0.0\n",
              "1304  2023-11-27  1.260097  1.264414  1.259208  1.260033   1.260033     0.0\n",
              "\n",
              "[1305 rows x 7 columns]"
            ]
          },
          "execution_count": 16,
          "metadata": {},
          "output_type": "execute_result"
        }
      ],
      "source": [
        "# Alternative to importing yfinance as yf\n",
        "def get_csv_link(date_from, date_to):\n",
        "  _date_from = time.mktime(date_from.timetuple())\n",
        "  _date_to = time.mktime(date_to.timetuple())\n",
        "  s1 = \"https://query1.finance.yahoo.com/v7/finance/download/\"\n",
        "  _s2 = str(int(_date_from))\n",
        "  _s3 = str(int(_date_to))\n",
        "  s4 = \"?period1=\"+ _s2 +\"&period2=\"+ _s3 +\"&interval=1d&events=history&includeAdjustedClose=true\"\n",
        "  return s1 + ticker + s4\n",
        "csv = pd.read_csv(get_csv_link(date(hist_yyyy, hist_mm, hist_dd), date(t0_yyyy, t0_mm, t0_dd)))\n",
        "csv"
      ]
    },
    {
      "cell_type": "markdown",
      "metadata": {
        "id": "snkHlG2mLDAE"
      },
      "source": [
        "**Historical Returns**\n",
        "\n",
        "*   pc = historical log returns, based on Adjusted Close\n",
        "*   drift = mean minus half-variance of historical log returns\n",
        "\n"
      ]
    },
    {
      "cell_type": "code",
      "execution_count": 17,
      "metadata": {
        "id": "dVWLT7zCv1Zj"
      },
      "outputs": [],
      "source": [
        "import numpy as np\n",
        "\n",
        "adj_close = csv[\"Adj Close\"]\n",
        "pc = np.log(1+adj_close.pct_change()) "
      ]
    },
    {
      "cell_type": "code",
      "execution_count": 18,
      "metadata": {
        "colab": {
          "base_uri": "https://localhost:8080/",
          "height": 472
        },
        "id": "Kh21PW0S1VqF",
        "outputId": "05f49bf2-2e5b-4a8f-c2c1-37931e9fab8f"
      },
      "outputs": [
        {
          "data": {
            "image/png": "[encoded data removed]",
            "text/plain": [
              "<Figure size 640x480 with 1 Axes>"
            ]
          },
          "metadata": {},
          "output_type": "display_data"
        }
      ],
      "source": [
        "sb.histplot(pc.iloc[1:])\n",
        "plt.title(\"Historical Log Returns\")\n",
        "plt.xlabel(\"Log Returns (Daily)\")\n",
        "plt.ylabel(\"Frequency\");"
      ]
    },
    {
      "cell_type": "code",
      "execution_count": 19,
      "metadata": {
        "colab": {
          "base_uri": "https://localhost:8080/"
        },
        "id": "opaF_hukxYAk",
        "outputId": "74857b9f-71a4-4bd2-e606-4057cae33a77"
      },
      "outputs": [
        {
          "name": "stdout",
          "output_type": "stream",
          "text": [
            "mean=-1.279343782978319e-05, var=3.562709360720013e-05, drift=-3.0606984633383255e-05\n"
          ]
        }
      ],
      "source": [
        "mean = pc.mean()\n",
        "var = pc.var()\n",
        "stddev = pc.std()\n",
        "drift = mean - 0.5*var\n",
        "print(\"mean={}, var={}, drift={}\".format(mean, var, drift))\n"
      ]
    },
    {
      "cell_type": "markdown",
      "metadata": {
        "id": "1OszZ2gFLWxy"
      },
      "source": [
        "# Performing Random Walk"
      ]
    },
    {
      "cell_type": "code",
      "execution_count": 20,
      "metadata": {
        "id": "NYD2lruj7Xle"
      },
      "outputs": [],
      "source": [
        "date_t0 = date(t0_yyyy, t0_mm, t0_dd)\n",
        "date_tn = date(tn_yyyy, tn_mm, tn_dd)\n",
        "\n",
        "n_forecast = 0        # Counter++ for each business days existing in between t0 and tn\n",
        "_t0 = date_t0         # tmp var.\n",
        "\n",
        "while date(_t0.year,_t0.month,_t0.day) <= date(date_tn.year,date_tn.month,date_tn.day):\n",
        "  n_forecast += 1\n",
        "  _t0 += BDay(1)"
      ]
    },
    {
      "cell_type": "code",
      "execution_count": 21,
      "metadata": {
        "colab": {
          "base_uri": "https://localhost:8080/"
        },
        "id": "SGGj1CEFzC56",
        "outputId": "8821cd90-c63c-444d-d199-8ce29a85900f"
      },
      "outputs": [
        {
          "name": "stdout",
          "output_type": "stream",
          "text": [
            "\n",
            "GBPUSD=X\n",
            "Shape=(220, 1000000)\n",
            "Simulation: From 2023-11-28 to 2024-09-30; Business days=219\n"
          ]
        }
      ],
      "source": [
        "# Init. array[n_forecast][n_iters] of zeros \n",
        "rand_returns = np.exp(drift + stddev * norm.ppf(np.random.rand(n_forecast,n_iters)))\n",
        "sim_equity_curve = np.zeros_like(rand_returns)\n",
        "\n",
        "# Assume single asset porfolio. Value of portfolio on day 1 of forecast is the Adj. Close price on that date. \n",
        "sim_equity_curve[0] = adj_close[len(adj_close)-1]\n",
        "\n",
        "# Perform random walk and plot\n",
        "for t in range(1,n_forecast):\n",
        "    sim_equity_curve[t] = sim_equity_curve[t-1]*rand_returns[t]\n",
        "\n",
        "assert(sim_equity_curve.shape==rand_returns.shape)\n",
        "\n",
        "print(\"\\n{}\\nShape={}\".format(ticker, sim_equity_curve.shape))\n",
        "print(\"Simulation: From {} to {}; Business days={}\".format(date_t0, date_tn, np.busday_count(date_t0, date_tn)))\n"
      ]
    },
    {
      "cell_type": "code",
      "execution_count": 22,
      "metadata": {
        "colab": {
          "base_uri": "https://localhost:8080/"
        },
        "id": "tkvONumF_RF-",
        "outputId": "e90daa70-1329-4a57-d551-7802b29fe9e8"
      },
      "outputs": [
        {
          "name": "stdout",
          "output_type": "stream",
          "text": [
            "GBPUSD=X\n",
            "t+n; \t\t\t\tstd \t\tmean \t\tmean - 2*std \t\tmean + 2*std \n",
            "\n",
            "t+0 \t2023-11-28 00:00:00 \tstd = 0.0 \tmean = 1.26 \tlower = 1.26 \t\tupper = 1.26\n",
            "t+1 \t2023-11-29 00:00:00 \tstd = 0.01 \tmean = 1.26 \tlower = 1.24 \t\tupper = 1.28\n",
            "t+2 \t2023-11-30 00:00:00 \tstd = 0.01 \tmean = 1.26 \tlower = 1.24 \t\tupper = 1.28\n",
            "t+3 \t2023-12-01 00:00:00 \tstd = 0.01 \tmean = 1.26 \tlower = 1.23 \t\tupper = 1.29\n",
            "t+4 \t2023-12-04 00:00:00 \tstd = 0.02 \tmean = 1.26 \tlower = 1.23 \t\tupper = 1.29\n",
            "t+5 \t2023-12-05 00:00:00 \tstd = 0.02 \tmean = 1.26 \tlower = 1.23 \t\tupper = 1.29\n",
            "t+6 \t2023-12-06 00:00:00 \tstd = 0.02 \tmean = 1.26 \tlower = 1.22 \t\tupper = 1.3\n",
            "t+7 \t2023-12-07 00:00:00 \tstd = 0.02 \tmean = 1.26 \tlower = 1.22 \t\tupper = 1.3\n",
            "t+8 \t2023-12-08 00:00:00 \tstd = 0.02 \tmean = 1.26 \tlower = 1.22 \t\tupper = 1.3\n",
            "t+9 \t2023-12-11 00:00:00 \tstd = 0.02 \tmean = 1.26 \tlower = 1.21 \t\tupper = 1.31\n",
            "t+10 \t2023-12-12 00:00:00 \tstd = 0.02 \tmean = 1.26 \tlower = 1.21 \t\tupper = 1.31\n",
            "t+11 \t2023-12-13 00:00:00 \tstd = 0.02 \tmean = 1.26 \tlower = 1.21 \t\tupper = 1.31\n",
            "t+12 \t2023-12-14 00:00:00 \tstd = 0.03 \tmean = 1.26 \tlower = 1.21 \t\tupper = 1.31\n",
            "t+13 \t2023-12-15 00:00:00 \tstd = 0.03 \tmean = 1.26 \tlower = 1.21 \t\tupper = 1.31\n",
            "t+14 \t2023-12-18 00:00:00 \tstd = 0.03 \tmean = 1.26 \tlower = 1.2 \t\tupper = 1.32\n",
            "t+15 \t2023-12-19 00:00:00 \tstd = 0.03 \tmean = 1.26 \tlower = 1.2 \t\tupper = 1.32\n",
            "t+16 \t2023-12-20 00:00:00 \tstd = 0.03 \tmean = 1.26 \tlower = 1.2 \t\tupper = 1.32\n",
            "t+17 \t2023-12-21 00:00:00 \tstd = 0.03 \tmean = 1.26 \tlower = 1.2 \t\tupper = 1.32\n",
            "t+18 \t2023-12-22 00:00:00 \tstd = 0.03 \tmean = 1.26 \tlower = 1.2 \t\tupper = 1.32\n",
            "t+19 \t2023-12-25 00:00:00 \tstd = 0.03 \tmean = 1.26 \tlower = 1.19 \t\tupper = 1.33\n",
            "t+20 \t2023-12-26 00:00:00 \tstd = 0.03 \tmean = 1.26 \tlower = 1.19 \t\tupper = 1.33\n",
            "t+21 \t2023-12-27 00:00:00 \tstd = 0.03 \tmean = 1.26 \tlower = 1.19 \t\tupper = 1.33\n",
            "t+22 \t2023-12-28 00:00:00 \tstd = 0.04 \tmean = 1.26 \tlower = 1.19 \t\tupper = 1.33\n",
            "t+23 \t2023-12-29 00:00:00 \tstd = 0.04 \tmean = 1.26 \tlower = 1.19 \t\tupper = 1.33\n",
            "t+24 \t2024-01-01 00:00:00 \tstd = 0.04 \tmean = 1.26 \tlower = 1.19 \t\tupper = 1.33\n",
            "t+25 \t2024-01-02 00:00:00 \tstd = 0.04 \tmean = 1.26 \tlower = 1.18 \t\tupper = 1.33\n",
            "t+26 \t2024-01-03 00:00:00 \tstd = 0.04 \tmean = 1.26 \tlower = 1.18 \t\tupper = 1.34\n",
            "t+27 \t2024-01-04 00:00:00 \tstd = 0.04 \tmean = 1.26 \tlower = 1.18 \t\tupper = 1.34\n",
            "t+28 \t2024-01-05 00:00:00 \tstd = 0.04 \tmean = 1.26 \tlower = 1.18 \t\tupper = 1.34\n",
            "t+29 \t2024-01-08 00:00:00 \tstd = 0.04 \tmean = 1.26 \tlower = 1.18 \t\tupper = 1.34\n",
            "t+30 \t2024-01-09 00:00:00 \tstd = 0.04 \tmean = 1.26 \tlower = 1.18 \t\tupper = 1.34\n",
            "t+31 \t2024-01-10 00:00:00 \tstd = 0.04 \tmean = 1.26 \tlower = 1.18 \t\tupper = 1.34\n",
            "t+32 \t2024-01-11 00:00:00 \tstd = 0.04 \tmean = 1.26 \tlower = 1.17 \t\tupper = 1.34\n",
            "t+33 \t2024-01-12 00:00:00 \tstd = 0.04 \tmean = 1.26 \tlower = 1.17 \t\tupper = 1.35\n",
            "t+34 \t2024-01-15 00:00:00 \tstd = 0.04 \tmean = 1.26 \tlower = 1.17 \t\tupper = 1.35\n",
            "t+35 \t2024-01-16 00:00:00 \tstd = 0.04 \tmean = 1.26 \tlower = 1.17 \t\tupper = 1.35\n",
            "t+36 \t2024-01-17 00:00:00 \tstd = 0.05 \tmean = 1.26 \tlower = 1.17 \t\tupper = 1.35\n",
            "t+37 \t2024-01-18 00:00:00 \tstd = 0.05 \tmean = 1.26 \tlower = 1.17 \t\tupper = 1.35\n",
            "t+38 \t2024-01-19 00:00:00 \tstd = 0.05 \tmean = 1.26 \tlower = 1.17 \t\tupper = 1.35\n",
            "t+39 \t2024-01-22 00:00:00 \tstd = 0.05 \tmean = 1.26 \tlower = 1.17 \t\tupper = 1.35\n",
            "t+40 \t2024-01-23 00:00:00 \tstd = 0.05 \tmean = 1.26 \tlower = 1.16 \t\tupper = 1.35\n",
            "t+41 \t2024-01-24 00:00:00 \tstd = 0.05 \tmean = 1.26 \tlower = 1.16 \t\tupper = 1.36\n",
            "t+42 \t2024-01-25 00:00:00 \tstd = 0.05 \tmean = 1.26 \tlower = 1.16 \t\tupper = 1.36\n",
            "t+43 \t2024-01-26 00:00:00 \tstd = 0.05 \tmean = 1.26 \tlower = 1.16 \t\tupper = 1.36\n",
            "t+44 \t2024-01-29 00:00:00 \tstd = 0.05 \tmean = 1.26 \tlower = 1.16 \t\tupper = 1.36\n",
            "t+45 \t2024-01-30 00:00:00 \tstd = 0.05 \tmean = 1.26 \tlower = 1.16 \t\tupper = 1.36\n",
            "t+46 \t2024-01-31 00:00:00 \tstd = 0.05 \tmean = 1.26 \tlower = 1.16 \t\tupper = 1.36\n",
            "t+47 \t2024-02-01 00:00:00 \tstd = 0.05 \tmean = 1.26 \tlower = 1.16 \t\tupper = 1.36\n",
            "t+48 \t2024-02-02 00:00:00 \tstd = 0.05 \tmean = 1.26 \tlower = 1.16 \t\tupper = 1.36\n",
            "t+49 \t2024-02-05 00:00:00 \tstd = 0.05 \tmean = 1.26 \tlower = 1.15 \t\tupper = 1.36\n",
            "t+50 \t2024-02-06 00:00:00 \tstd = 0.05 \tmean = 1.26 \tlower = 1.15 \t\tupper = 1.37\n",
            "t+51 \t2024-02-07 00:00:00 \tstd = 0.05 \tmean = 1.26 \tlower = 1.15 \t\tupper = 1.37\n",
            "t+52 \t2024-02-08 00:00:00 \tstd = 0.05 \tmean = 1.26 \tlower = 1.15 \t\tupper = 1.37\n",
            "t+53 \t2024-02-09 00:00:00 \tstd = 0.05 \tmean = 1.26 \tlower = 1.15 \t\tupper = 1.37\n",
            "t+54 \t2024-02-12 00:00:00 \tstd = 0.06 \tmean = 1.26 \tlower = 1.15 \t\tupper = 1.37\n",
            "t+55 \t2024-02-13 00:00:00 \tstd = 0.06 \tmean = 1.26 \tlower = 1.15 \t\tupper = 1.37\n",
            "t+56 \t2024-02-14 00:00:00 \tstd = 0.06 \tmean = 1.26 \tlower = 1.15 \t\tupper = 1.37\n",
            "t+57 \t2024-02-15 00:00:00 \tstd = 0.06 \tmean = 1.26 \tlower = 1.15 \t\tupper = 1.37\n",
            "t+58 \t2024-02-16 00:00:00 \tstd = 0.06 \tmean = 1.26 \tlower = 1.14 \t\tupper = 1.37\n",
            "t+59 \t2024-02-19 00:00:00 \tstd = 0.06 \tmean = 1.26 \tlower = 1.14 \t\tupper = 1.37\n",
            "t+60 \t2024-02-20 00:00:00 \tstd = 0.06 \tmean = 1.26 \tlower = 1.14 \t\tupper = 1.38\n",
            "t+61 \t2024-02-21 00:00:00 \tstd = 0.06 \tmean = 1.26 \tlower = 1.14 \t\tupper = 1.38\n",
            "t+62 \t2024-02-22 00:00:00 \tstd = 0.06 \tmean = 1.26 \tlower = 1.14 \t\tupper = 1.38\n",
            "t+63 \t2024-02-23 00:00:00 \tstd = 0.06 \tmean = 1.26 \tlower = 1.14 \t\tupper = 1.38\n",
            "t+64 \t2024-02-26 00:00:00 \tstd = 0.06 \tmean = 1.26 \tlower = 1.14 \t\tupper = 1.38\n",
            "t+65 \t2024-02-27 00:00:00 \tstd = 0.06 \tmean = 1.26 \tlower = 1.14 \t\tupper = 1.38\n",
            "t+66 \t2024-02-28 00:00:00 \tstd = 0.06 \tmean = 1.26 \tlower = 1.14 \t\tupper = 1.38\n",
            "t+67 \t2024-02-29 00:00:00 \tstd = 0.06 \tmean = 1.26 \tlower = 1.14 \t\tupper = 1.38\n",
            "t+68 \t2024-03-01 00:00:00 \tstd = 0.06 \tmean = 1.26 \tlower = 1.14 \t\tupper = 1.38\n",
            "t+69 \t2024-03-04 00:00:00 \tstd = 0.06 \tmean = 1.26 \tlower = 1.13 \t\tupper = 1.38\n",
            "t+70 \t2024-03-05 00:00:00 \tstd = 0.06 \tmean = 1.26 \tlower = 1.13 \t\tupper = 1.38\n",
            "t+71 \t2024-03-06 00:00:00 \tstd = 0.06 \tmean = 1.26 \tlower = 1.13 \t\tupper = 1.39\n",
            "t+72 \t2024-03-07 00:00:00 \tstd = 0.06 \tmean = 1.26 \tlower = 1.13 \t\tupper = 1.39\n",
            "t+73 \t2024-03-08 00:00:00 \tstd = 0.06 \tmean = 1.26 \tlower = 1.13 \t\tupper = 1.39\n",
            "t+74 \t2024-03-11 00:00:00 \tstd = 0.06 \tmean = 1.26 \tlower = 1.13 \t\tupper = 1.39\n",
            "t+75 \t2024-03-12 00:00:00 \tstd = 0.07 \tmean = 1.26 \tlower = 1.13 \t\tupper = 1.39\n",
            "t+76 \t2024-03-13 00:00:00 \tstd = 0.07 \tmean = 1.26 \tlower = 1.13 \t\tupper = 1.39\n",
            "t+77 \t2024-03-14 00:00:00 \tstd = 0.07 \tmean = 1.26 \tlower = 1.13 \t\tupper = 1.39\n",
            "t+78 \t2024-03-15 00:00:00 \tstd = 0.07 \tmean = 1.26 \tlower = 1.13 \t\tupper = 1.39\n",
            "t+79 \t2024-03-18 00:00:00 \tstd = 0.07 \tmean = 1.26 \tlower = 1.13 \t\tupper = 1.39\n",
            "t+80 \t2024-03-19 00:00:00 \tstd = 0.07 \tmean = 1.26 \tlower = 1.12 \t\tupper = 1.39\n",
            "t+81 \t2024-03-20 00:00:00 \tstd = 0.07 \tmean = 1.26 \tlower = 1.12 \t\tupper = 1.39\n",
            "t+82 \t2024-03-21 00:00:00 \tstd = 0.07 \tmean = 1.26 \tlower = 1.12 \t\tupper = 1.39\n",
            "t+83 \t2024-03-22 00:00:00 \tstd = 0.07 \tmean = 1.26 \tlower = 1.12 \t\tupper = 1.4\n",
            "t+84 \t2024-03-25 00:00:00 \tstd = 0.07 \tmean = 1.26 \tlower = 1.12 \t\tupper = 1.4\n",
            "t+85 \t2024-03-26 00:00:00 \tstd = 0.07 \tmean = 1.26 \tlower = 1.12 \t\tupper = 1.4\n",
            "t+86 \t2024-03-27 00:00:00 \tstd = 0.07 \tmean = 1.26 \tlower = 1.12 \t\tupper = 1.4\n",
            "t+87 \t2024-03-28 00:00:00 \tstd = 0.07 \tmean = 1.26 \tlower = 1.12 \t\tupper = 1.4\n",
            "t+88 \t2024-03-29 00:00:00 \tstd = 0.07 \tmean = 1.26 \tlower = 1.12 \t\tupper = 1.4\n",
            "t+89 \t2024-04-01 00:00:00 \tstd = 0.07 \tmean = 1.26 \tlower = 1.12 \t\tupper = 1.4\n",
            "t+90 \t2024-04-02 00:00:00 \tstd = 0.07 \tmean = 1.26 \tlower = 1.12 \t\tupper = 1.4\n",
            "t+91 \t2024-04-03 00:00:00 \tstd = 0.07 \tmean = 1.26 \tlower = 1.12 \t\tupper = 1.4\n",
            "t+92 \t2024-04-04 00:00:00 \tstd = 0.07 \tmean = 1.26 \tlower = 1.11 \t\tupper = 1.4\n",
            "t+93 \t2024-04-05 00:00:00 \tstd = 0.07 \tmean = 1.26 \tlower = 1.11 \t\tupper = 1.4\n",
            "t+94 \t2024-04-08 00:00:00 \tstd = 0.07 \tmean = 1.26 \tlower = 1.11 \t\tupper = 1.4\n",
            "t+95 \t2024-04-09 00:00:00 \tstd = 0.07 \tmean = 1.26 \tlower = 1.11 \t\tupper = 1.41\n",
            "t+96 \t2024-04-10 00:00:00 \tstd = 0.07 \tmean = 1.26 \tlower = 1.11 \t\tupper = 1.41\n",
            "t+97 \t2024-04-11 00:00:00 \tstd = 0.07 \tmean = 1.26 \tlower = 1.11 \t\tupper = 1.41\n",
            "t+98 \t2024-04-12 00:00:00 \tstd = 0.07 \tmean = 1.26 \tlower = 1.11 \t\tupper = 1.41\n",
            "t+99 \t2024-04-15 00:00:00 \tstd = 0.07 \tmean = 1.26 \tlower = 1.11 \t\tupper = 1.41\n",
            "t+100 \t2024-04-16 00:00:00 \tstd = 0.08 \tmean = 1.26 \tlower = 1.11 \t\tupper = 1.41\n",
            "t+101 \t2024-04-17 00:00:00 \tstd = 0.08 \tmean = 1.26 \tlower = 1.11 \t\tupper = 1.41\n",
            "t+102 \t2024-04-18 00:00:00 \tstd = 0.08 \tmean = 1.26 \tlower = 1.11 \t\tupper = 1.41\n",
            "t+103 \t2024-04-19 00:00:00 \tstd = 0.08 \tmean = 1.26 \tlower = 1.11 \t\tupper = 1.41\n",
            "t+104 \t2024-04-22 00:00:00 \tstd = 0.08 \tmean = 1.26 \tlower = 1.11 \t\tupper = 1.41\n",
            "t+105 \t2024-04-23 00:00:00 \tstd = 0.08 \tmean = 1.26 \tlower = 1.1 \t\tupper = 1.41\n",
            "t+106 \t2024-04-24 00:00:00 \tstd = 0.08 \tmean = 1.26 \tlower = 1.1 \t\tupper = 1.41\n",
            "t+107 \t2024-04-25 00:00:00 \tstd = 0.08 \tmean = 1.26 \tlower = 1.1 \t\tupper = 1.41\n",
            "t+108 \t2024-04-26 00:00:00 \tstd = 0.08 \tmean = 1.26 \tlower = 1.1 \t\tupper = 1.41\n",
            "t+109 \t2024-04-29 00:00:00 \tstd = 0.08 \tmean = 1.26 \tlower = 1.1 \t\tupper = 1.42\n",
            "t+110 \t2024-04-30 00:00:00 \tstd = 0.08 \tmean = 1.26 \tlower = 1.1 \t\tupper = 1.42\n",
            "t+111 \t2024-05-01 00:00:00 \tstd = 0.08 \tmean = 1.26 \tlower = 1.1 \t\tupper = 1.42\n",
            "t+112 \t2024-05-02 00:00:00 \tstd = 0.08 \tmean = 1.26 \tlower = 1.1 \t\tupper = 1.42\n",
            "t+113 \t2024-05-03 00:00:00 \tstd = 0.08 \tmean = 1.26 \tlower = 1.1 \t\tupper = 1.42\n",
            "t+114 \t2024-05-06 00:00:00 \tstd = 0.08 \tmean = 1.26 \tlower = 1.1 \t\tupper = 1.42\n",
            "t+115 \t2024-05-07 00:00:00 \tstd = 0.08 \tmean = 1.26 \tlower = 1.1 \t\tupper = 1.42\n",
            "t+116 \t2024-05-08 00:00:00 \tstd = 0.08 \tmean = 1.26 \tlower = 1.1 \t\tupper = 1.42\n",
            "t+117 \t2024-05-09 00:00:00 \tstd = 0.08 \tmean = 1.26 \tlower = 1.1 \t\tupper = 1.42\n",
            "t+118 \t2024-05-10 00:00:00 \tstd = 0.08 \tmean = 1.26 \tlower = 1.09 \t\tupper = 1.42\n",
            "t+119 \t2024-05-13 00:00:00 \tstd = 0.08 \tmean = 1.26 \tlower = 1.09 \t\tupper = 1.42\n",
            "t+120 \t2024-05-14 00:00:00 \tstd = 0.08 \tmean = 1.26 \tlower = 1.09 \t\tupper = 1.42\n",
            "t+121 \t2024-05-15 00:00:00 \tstd = 0.08 \tmean = 1.26 \tlower = 1.09 \t\tupper = 1.42\n",
            "t+122 \t2024-05-16 00:00:00 \tstd = 0.08 \tmean = 1.26 \tlower = 1.09 \t\tupper = 1.42\n",
            "t+123 \t2024-05-17 00:00:00 \tstd = 0.08 \tmean = 1.26 \tlower = 1.09 \t\tupper = 1.42\n",
            "t+124 \t2024-05-20 00:00:00 \tstd = 0.08 \tmean = 1.26 \tlower = 1.09 \t\tupper = 1.43\n",
            "t+125 \t2024-05-21 00:00:00 \tstd = 0.08 \tmean = 1.26 \tlower = 1.09 \t\tupper = 1.43\n",
            "t+126 \t2024-05-22 00:00:00 \tstd = 0.08 \tmean = 1.26 \tlower = 1.09 \t\tupper = 1.43\n",
            "t+127 \t2024-05-23 00:00:00 \tstd = 0.08 \tmean = 1.26 \tlower = 1.09 \t\tupper = 1.43\n",
            "t+128 \t2024-05-24 00:00:00 \tstd = 0.09 \tmean = 1.26 \tlower = 1.09 \t\tupper = 1.43\n",
            "t+129 \t2024-05-27 00:00:00 \tstd = 0.09 \tmean = 1.26 \tlower = 1.09 \t\tupper = 1.43\n",
            "t+130 \t2024-05-28 00:00:00 \tstd = 0.09 \tmean = 1.26 \tlower = 1.09 \t\tupper = 1.43\n",
            "t+131 \t2024-05-29 00:00:00 \tstd = 0.09 \tmean = 1.26 \tlower = 1.09 \t\tupper = 1.43\n",
            "t+132 \t2024-05-30 00:00:00 \tstd = 0.09 \tmean = 1.26 \tlower = 1.09 \t\tupper = 1.43\n",
            "t+133 \t2024-05-31 00:00:00 \tstd = 0.09 \tmean = 1.26 \tlower = 1.08 \t\tupper = 1.43\n",
            "t+134 \t2024-06-03 00:00:00 \tstd = 0.09 \tmean = 1.26 \tlower = 1.08 \t\tupper = 1.43\n",
            "t+135 \t2024-06-04 00:00:00 \tstd = 0.09 \tmean = 1.26 \tlower = 1.08 \t\tupper = 1.43\n",
            "t+136 \t2024-06-05 00:00:00 \tstd = 0.09 \tmean = 1.26 \tlower = 1.08 \t\tupper = 1.43\n",
            "t+137 \t2024-06-06 00:00:00 \tstd = 0.09 \tmean = 1.26 \tlower = 1.08 \t\tupper = 1.43\n",
            "t+138 \t2024-06-07 00:00:00 \tstd = 0.09 \tmean = 1.26 \tlower = 1.08 \t\tupper = 1.43\n",
            "t+139 \t2024-06-10 00:00:00 \tstd = 0.09 \tmean = 1.26 \tlower = 1.08 \t\tupper = 1.44\n",
            "t+140 \t2024-06-11 00:00:00 \tstd = 0.09 \tmean = 1.26 \tlower = 1.08 \t\tupper = 1.44\n",
            "t+141 \t2024-06-12 00:00:00 \tstd = 0.09 \tmean = 1.26 \tlower = 1.08 \t\tupper = 1.44\n",
            "t+142 \t2024-06-13 00:00:00 \tstd = 0.09 \tmean = 1.26 \tlower = 1.08 \t\tupper = 1.44\n",
            "t+143 \t2024-06-14 00:00:00 \tstd = 0.09 \tmean = 1.26 \tlower = 1.08 \t\tupper = 1.44\n",
            "t+144 \t2024-06-17 00:00:00 \tstd = 0.09 \tmean = 1.26 \tlower = 1.08 \t\tupper = 1.44\n",
            "t+145 \t2024-06-18 00:00:00 \tstd = 0.09 \tmean = 1.26 \tlower = 1.08 \t\tupper = 1.44\n",
            "t+146 \t2024-06-19 00:00:00 \tstd = 0.09 \tmean = 1.26 \tlower = 1.08 \t\tupper = 1.44\n",
            "t+147 \t2024-06-20 00:00:00 \tstd = 0.09 \tmean = 1.26 \tlower = 1.08 \t\tupper = 1.44\n",
            "t+148 \t2024-06-21 00:00:00 \tstd = 0.09 \tmean = 1.26 \tlower = 1.07 \t\tupper = 1.44\n",
            "t+149 \t2024-06-24 00:00:00 \tstd = 0.09 \tmean = 1.26 \tlower = 1.07 \t\tupper = 1.44\n",
            "t+150 \t2024-06-25 00:00:00 \tstd = 0.09 \tmean = 1.26 \tlower = 1.07 \t\tupper = 1.44\n",
            "t+151 \t2024-06-26 00:00:00 \tstd = 0.09 \tmean = 1.26 \tlower = 1.07 \t\tupper = 1.44\n",
            "t+152 \t2024-06-27 00:00:00 \tstd = 0.09 \tmean = 1.26 \tlower = 1.07 \t\tupper = 1.44\n",
            "t+153 \t2024-06-28 00:00:00 \tstd = 0.09 \tmean = 1.26 \tlower = 1.07 \t\tupper = 1.44\n",
            "t+154 \t2024-07-01 00:00:00 \tstd = 0.09 \tmean = 1.26 \tlower = 1.07 \t\tupper = 1.44\n",
            "t+155 \t2024-07-02 00:00:00 \tstd = 0.09 \tmean = 1.26 \tlower = 1.07 \t\tupper = 1.44\n",
            "t+156 \t2024-07-03 00:00:00 \tstd = 0.09 \tmean = 1.26 \tlower = 1.07 \t\tupper = 1.45\n",
            "t+157 \t2024-07-04 00:00:00 \tstd = 0.09 \tmean = 1.26 \tlower = 1.07 \t\tupper = 1.45\n",
            "t+158 \t2024-07-05 00:00:00 \tstd = 0.09 \tmean = 1.26 \tlower = 1.07 \t\tupper = 1.45\n",
            "t+159 \t2024-07-08 00:00:00 \tstd = 0.09 \tmean = 1.26 \tlower = 1.07 \t\tupper = 1.45\n",
            "t+160 \t2024-07-09 00:00:00 \tstd = 0.1 \tmean = 1.26 \tlower = 1.07 \t\tupper = 1.45\n",
            "t+161 \t2024-07-10 00:00:00 \tstd = 0.1 \tmean = 1.26 \tlower = 1.07 \t\tupper = 1.45\n",
            "t+162 \t2024-07-11 00:00:00 \tstd = 0.1 \tmean = 1.26 \tlower = 1.07 \t\tupper = 1.45\n",
            "t+163 \t2024-07-12 00:00:00 \tstd = 0.1 \tmean = 1.26 \tlower = 1.07 \t\tupper = 1.45\n",
            "t+164 \t2024-07-15 00:00:00 \tstd = 0.1 \tmean = 1.26 \tlower = 1.06 \t\tupper = 1.45\n",
            "t+165 \t2024-07-16 00:00:00 \tstd = 0.1 \tmean = 1.26 \tlower = 1.06 \t\tupper = 1.45\n",
            "t+166 \t2024-07-17 00:00:00 \tstd = 0.1 \tmean = 1.26 \tlower = 1.06 \t\tupper = 1.45\n",
            "t+167 \t2024-07-18 00:00:00 \tstd = 0.1 \tmean = 1.26 \tlower = 1.06 \t\tupper = 1.45\n",
            "t+168 \t2024-07-19 00:00:00 \tstd = 0.1 \tmean = 1.26 \tlower = 1.06 \t\tupper = 1.45\n",
            "t+169 \t2024-07-22 00:00:00 \tstd = 0.1 \tmean = 1.26 \tlower = 1.06 \t\tupper = 1.45\n",
            "t+170 \t2024-07-23 00:00:00 \tstd = 0.1 \tmean = 1.26 \tlower = 1.06 \t\tupper = 1.45\n",
            "t+171 \t2024-07-24 00:00:00 \tstd = 0.1 \tmean = 1.26 \tlower = 1.06 \t\tupper = 1.45\n",
            "t+172 \t2024-07-25 00:00:00 \tstd = 0.1 \tmean = 1.26 \tlower = 1.06 \t\tupper = 1.45\n",
            "t+173 \t2024-07-26 00:00:00 \tstd = 0.1 \tmean = 1.26 \tlower = 1.06 \t\tupper = 1.46\n",
            "t+174 \t2024-07-29 00:00:00 \tstd = 0.1 \tmean = 1.26 \tlower = 1.06 \t\tupper = 1.46\n",
            "t+175 \t2024-07-30 00:00:00 \tstd = 0.1 \tmean = 1.26 \tlower = 1.06 \t\tupper = 1.46\n",
            "t+176 \t2024-07-31 00:00:00 \tstd = 0.1 \tmean = 1.26 \tlower = 1.06 \t\tupper = 1.46\n",
            "t+177 \t2024-08-01 00:00:00 \tstd = 0.1 \tmean = 1.26 \tlower = 1.06 \t\tupper = 1.46\n",
            "t+178 \t2024-08-02 00:00:00 \tstd = 0.1 \tmean = 1.26 \tlower = 1.06 \t\tupper = 1.46\n",
            "t+179 \t2024-08-05 00:00:00 \tstd = 0.1 \tmean = 1.26 \tlower = 1.06 \t\tupper = 1.46\n",
            "t+180 \t2024-08-06 00:00:00 \tstd = 0.1 \tmean = 1.26 \tlower = 1.06 \t\tupper = 1.46\n",
            "t+181 \t2024-08-07 00:00:00 \tstd = 0.1 \tmean = 1.26 \tlower = 1.06 \t\tupper = 1.46\n",
            "t+182 \t2024-08-08 00:00:00 \tstd = 0.1 \tmean = 1.26 \tlower = 1.05 \t\tupper = 1.46\n",
            "t+183 \t2024-08-09 00:00:00 \tstd = 0.1 \tmean = 1.26 \tlower = 1.05 \t\tupper = 1.46\n",
            "t+184 \t2024-08-12 00:00:00 \tstd = 0.1 \tmean = 1.26 \tlower = 1.05 \t\tupper = 1.46\n",
            "t+185 \t2024-08-13 00:00:00 \tstd = 0.1 \tmean = 1.26 \tlower = 1.05 \t\tupper = 1.46\n",
            "t+186 \t2024-08-14 00:00:00 \tstd = 0.1 \tmean = 1.26 \tlower = 1.05 \t\tupper = 1.46\n",
            "t+187 \t2024-08-15 00:00:00 \tstd = 0.1 \tmean = 1.26 \tlower = 1.05 \t\tupper = 1.46\n",
            "t+188 \t2024-08-16 00:00:00 \tstd = 0.1 \tmean = 1.26 \tlower = 1.05 \t\tupper = 1.46\n",
            "t+189 \t2024-08-19 00:00:00 \tstd = 0.1 \tmean = 1.26 \tlower = 1.05 \t\tupper = 1.46\n",
            "t+190 \t2024-08-20 00:00:00 \tstd = 0.1 \tmean = 1.26 \tlower = 1.05 \t\tupper = 1.46\n",
            "t+191 \t2024-08-21 00:00:00 \tstd = 0.1 \tmean = 1.26 \tlower = 1.05 \t\tupper = 1.46\n",
            "t+192 \t2024-08-22 00:00:00 \tstd = 0.1 \tmean = 1.26 \tlower = 1.05 \t\tupper = 1.47\n",
            "t+193 \t2024-08-23 00:00:00 \tstd = 0.1 \tmean = 1.26 \tlower = 1.05 \t\tupper = 1.47\n",
            "t+194 \t2024-08-26 00:00:00 \tstd = 0.1 \tmean = 1.26 \tlower = 1.05 \t\tupper = 1.47\n",
            "t+195 \t2024-08-27 00:00:00 \tstd = 0.1 \tmean = 1.26 \tlower = 1.05 \t\tupper = 1.47\n",
            "t+196 \t2024-08-28 00:00:00 \tstd = 0.11 \tmean = 1.26 \tlower = 1.05 \t\tupper = 1.47\n",
            "t+197 \t2024-08-29 00:00:00 \tstd = 0.11 \tmean = 1.26 \tlower = 1.05 \t\tupper = 1.47\n",
            "t+198 \t2024-08-30 00:00:00 \tstd = 0.11 \tmean = 1.26 \tlower = 1.05 \t\tupper = 1.47\n",
            "t+199 \t2024-09-02 00:00:00 \tstd = 0.11 \tmean = 1.26 \tlower = 1.05 \t\tupper = 1.47\n",
            "t+200 \t2024-09-03 00:00:00 \tstd = 0.11 \tmean = 1.26 \tlower = 1.04 \t\tupper = 1.47\n",
            "t+201 \t2024-09-04 00:00:00 \tstd = 0.11 \tmean = 1.26 \tlower = 1.04 \t\tupper = 1.47\n",
            "t+202 \t2024-09-05 00:00:00 \tstd = 0.11 \tmean = 1.26 \tlower = 1.04 \t\tupper = 1.47\n",
            "t+203 \t2024-09-06 00:00:00 \tstd = 0.11 \tmean = 1.26 \tlower = 1.04 \t\tupper = 1.47\n",
            "t+204 \t2024-09-09 00:00:00 \tstd = 0.11 \tmean = 1.26 \tlower = 1.04 \t\tupper = 1.47\n",
            "t+205 \t2024-09-10 00:00:00 \tstd = 0.11 \tmean = 1.26 \tlower = 1.04 \t\tupper = 1.47\n",
            "t+206 \t2024-09-11 00:00:00 \tstd = 0.11 \tmean = 1.26 \tlower = 1.04 \t\tupper = 1.47\n",
            "t+207 \t2024-09-12 00:00:00 \tstd = 0.11 \tmean = 1.26 \tlower = 1.04 \t\tupper = 1.47\n",
            "t+208 \t2024-09-13 00:00:00 \tstd = 0.11 \tmean = 1.26 \tlower = 1.04 \t\tupper = 1.47\n",
            "t+209 \t2024-09-16 00:00:00 \tstd = 0.11 \tmean = 1.26 \tlower = 1.04 \t\tupper = 1.47\n",
            "t+210 \t2024-09-17 00:00:00 \tstd = 0.11 \tmean = 1.26 \tlower = 1.04 \t\tupper = 1.47\n",
            "t+211 \t2024-09-18 00:00:00 \tstd = 0.11 \tmean = 1.26 \tlower = 1.04 \t\tupper = 1.47\n",
            "t+212 \t2024-09-19 00:00:00 \tstd = 0.11 \tmean = 1.26 \tlower = 1.04 \t\tupper = 1.48\n",
            "t+213 \t2024-09-20 00:00:00 \tstd = 0.11 \tmean = 1.26 \tlower = 1.04 \t\tupper = 1.48\n",
            "t+214 \t2024-09-23 00:00:00 \tstd = 0.11 \tmean = 1.26 \tlower = 1.04 \t\tupper = 1.48\n",
            "t+215 \t2024-09-24 00:00:00 \tstd = 0.11 \tmean = 1.26 \tlower = 1.04 \t\tupper = 1.48\n",
            "t+216 \t2024-09-25 00:00:00 \tstd = 0.11 \tmean = 1.26 \tlower = 1.04 \t\tupper = 1.48\n",
            "t+217 \t2024-09-26 00:00:00 \tstd = 0.11 \tmean = 1.26 \tlower = 1.04 \t\tupper = 1.48\n",
            "t+218 \t2024-09-27 00:00:00 \tstd = 0.11 \tmean = 1.26 \tlower = 1.03 \t\tupper = 1.48\n",
            "t+219 \t2024-09-30 00:00:00 \tstd = 0.11 \tmean = 1.26 \tlower = 1.03 \t\tupper = 1.48\n"
          ]
        }
      ],
      "source": [
        "count = 0\n",
        "stdev_multi = 2\n",
        "\n",
        "lower_bounds, center_ln, upper_bounds = [], [], []\n",
        "\n",
        "print(\"{}\\nt+n; \\t\\t\\t\\tstd \\t\\tmean \\t\\tmean - {}*std \\t\\tmean + {}*std \\n\"\\\n",
        "      .format(ticker, stdev_multi,stdev_multi))\n",
        "for e in sim_equity_curve:\n",
        "  std = e.std()\n",
        "  mean = e.mean()\n",
        "  lower_bounds.append(mean-2*std)\n",
        "  center_ln.append(mean)\n",
        "  upper_bounds.append(mean+2*std)\n",
        "  print(\"t+{} \\t{} \\tstd = {} \\tmean = {} \\tlower = {} \\t\\tupper = {}\"\\\n",
        "        .format(count, date_t0+BDay(count), std.round(2), mean.round(2), (mean-stdev_multi*std).round(2), (mean+stdev_multi*std).round(2)))\n",
        "  count += 1\n"
      ]
    },
    {
      "cell_type": "markdown",
      "metadata": {
        "id": "jnjxc7OuMTxe"
      },
      "source": [
        "# Output"
      ]
    },
    {
      "cell_type": "code",
      "execution_count": 24,
      "metadata": {
        "colab": {
          "base_uri": "https://localhost:8080/",
          "height": 696
        },
        "id": "hgVDqfMwIt1I",
        "outputId": "e52282f2-2578-4639-f23e-db1bff0974b2"
      },
      "outputs": [
        {
          "data": {
            "image/png": "[encoded data removed]",
            "text/plain": [
              "<Figure size 1600x800 with 1 Axes>"
            ]
          },
          "metadata": {},
          "output_type": "display_data"
        }
      ],
      "source": [
        "plt.figure(figsize=(16,8))\n",
        "plt.plot(upper_bounds, label=\"Projected Mean + 2 * stdev.\", color=\"red\")\n",
        "plt.plot(center_ln, label=\"Projected Mean\", color=\"blue\")\n",
        "plt.plot(lower_bounds, label=\"Projected Mean - 2 * stdev.\", color=\"green\")\n",
        "plt.legend()\n",
        "plt.ylabel(\"Projected Close\")\n",
        "plt.xlabel(\"t0 + No. of business days\")\n",
        "plt.show()"
      ]
    },
    {
      "cell_type": "code",
      "execution_count": 23,
      "metadata": {
        "colab": {
          "base_uri": "https://localhost:8080/"
        },
        "id": "hKQ-AtCqNs5D",
        "outputId": "31bcdde6-6cb7-4a54-d198-7cbc5dadb81c"
      },
      "outputs": [
        {
          "name": "stdout",
          "output_type": "stream",
          "text": [
            "Simulation:\tFrom 2023-11-28 to 2024-09-30; Business days=219\n",
            "\n",
            "On t+219:\tExpected Close; between the interval [1.03, 1.48]\n",
            "\n",
            "On t+219:\tExpected average Close = 1.26\n"
          ]
        }
      ],
      "source": [
        "print(\"Simulation:\\tFrom {} to {}; Business days={}\".format(date_t0, date_tn, np.busday_count(date_t0, date_tn)))\n",
        "print(\"\\nOn t+{}:\\tExpected Close; between the interval [{}, {}]\".format(np.busday_count(date_t0, date_tn), round(lower_bounds[len(lower_bounds)-1],2),round(upper_bounds[len(upper_bounds)-1],2)))\n",
        "print(\"\\nOn t+{}:\\tExpected average Close = {}\".format(np.busday_count(date_t0, date_tn), round(center_ln[len(center_ln)-1],2)))"
      ]
    },
    {
      "cell_type": "markdown",
      "metadata": {
        "id": "lpZrKjiDUl9O"
      },
      "source": [
        "<br>\n",
        "<br>\n",
        "<br>\n",
        "<br>\n",
        "\n",
        "---\n",
        "**References:**\n",
        "\n",
        "[1] E. Bukaçi, Th. Korini, E. Periku, S. Allkja and P. Sheperi (2016). Number of iterations needed in Monte Carlo Simulation using reliability analysis for tunnel supports. [online] https://www.ijera.com. Available at: https://www.ijera.com/papers/Vol6_issue6/Part%20-%203/J0606036064.pdf."
      ]
    }
  ],
  "metadata": {
    "colab": {
      "collapsed_sections": [
        "50J9CIeBK7P8"
      ],
      "include_colab_link": true,
      "provenance": []
    },
    "kernelspec": {
      "display_name": "Python 3",
      "name": "python3"
    },
    "language_info": {
      "codemirror_mode": {
        "name": "ipython",
        "version": 3
      },
      "file_extension": ".py",
      "mimetype": "text/x-python",
      "name": "python",
      "nbconvert_exporter": "python",
      "pygments_lexer": "ipython3",
      "version": "3.8.8"
    }
  },
  "nbformat": 4,
  "nbformat_minor": 0
}
